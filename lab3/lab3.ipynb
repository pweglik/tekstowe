{
 "cells": [
  {
   "cell_type": "markdown",
   "id": "efb32367",
   "metadata": {},
   "source": [
    "# Text compression using Huffman Coding"
   ]
  },
  {
   "cell_type": "code",
   "execution_count": 1,
   "id": "1d3f41d0",
   "metadata": {},
   "outputs": [],
   "source": [
    "from collections import Counter\n",
    "from queue import PriorityQueue\n",
    "from typing import Union, Dict, List, Tuple\n",
    "import math\n",
    "import string\n",
    "import random\n",
    "import time\n",
    "import os\n",
    "import matplotlib.pyplot as plt"
   ]
  },
  {
   "cell_type": "markdown",
   "id": "89be2986",
   "metadata": {},
   "source": [
    "## Standard (static) Huffman Coding"
   ]
  },
  {
   "cell_type": "code",
   "execution_count": 2,
   "id": "d3bcd5e9",
   "metadata": {},
   "outputs": [],
   "source": [
    "class Node:\n",
    "    def __init__(self, char: str, count: int):\n",
    "        self.char: str = char # will be None for internal nodes\n",
    "        self.count: int = count\n",
    "        self.left = None\n",
    "        self.right = None\n",
    "    \n",
    "    # we need operator overload for priority queue\n",
    "    def __lt__(self, other):\n",
    "        return self.count < other.count\n",
    "    \n",
    "    def __eq__(self, other):\n",
    "        if other == None:\n",
    "            return False\n",
    "        return self.count == other.count\n",
    "    \n",
    "    # for debugging purposes\n",
    "    def __str__(self):\n",
    "        return str(self.char) + ' ' + str(self.count)\n",
    "        \n",
    "    \n",
    "def create_static_huffman_tree(text: str) -> Node:\n",
    "    # counting letters in text\n",
    "    freq: Dict[str, int] = Counter(text)\n",
    "    leaves: Dict[str, Node] = {key: Node(key, val) for key, val in freq.items()} \n",
    "    # creating priority queue\n",
    "    queue = PriorityQueue()\n",
    "    for letter in leaves.keys():\n",
    "        queue.put(leaves[letter])\n",
    "        \n",
    "    while queue.qsize() > 1:\n",
    "        node1: Node = queue.get()\n",
    "        node2: Node = queue.get()\n",
    "        \n",
    "        parent_node: Node = Node(None, node1.count + node2.count)\n",
    "        parent_node.left = node1\n",
    "        parent_node.right = node2\n",
    "        \n",
    "        queue.put(parent_node)\n",
    "        \n",
    "    return queue.get()\n",
    "\n",
    "def traverse_tree(node: Node, encoding: Dict[str, str], code: str):\n",
    "    if node.left != None:\n",
    "        traverse_tree(node.left, encoding, code + '0')\n",
    "\n",
    "    if node.right != None:\n",
    "        traverse_tree(node.right, encoding, code + '1')\n",
    "            \n",
    "    if node.left == None and node.right == None:\n",
    "        encoding[node.char] = code\n",
    "\n",
    "def get_huffman_coding(root: Node) -> Dict[str, str]:\n",
    "    encoding: Dict[str, str] = dict()\n",
    "        \n",
    "    traverse_tree(root, encoding, '')\n",
    "    \n",
    "    return encoding"
   ]
  },
  {
   "cell_type": "markdown",
   "id": "1992d50f",
   "metadata": {},
   "source": [
    "## Dynamic Huffman Coding"
   ]
  },
  {
   "cell_type": "code",
   "execution_count": null,
   "id": "b1da98b5",
   "metadata": {},
   "outputs": [],
   "source": []
  },
  {
   "cell_type": "code",
   "execution_count": null,
   "id": "4621191d",
   "metadata": {},
   "outputs": [],
   "source": []
  },
  {
   "cell_type": "code",
   "execution_count": null,
   "id": "f691e8df",
   "metadata": {},
   "outputs": [],
   "source": []
  },
  {
   "cell_type": "code",
   "execution_count": null,
   "id": "7b1adcbc",
   "metadata": {},
   "outputs": [],
   "source": []
  },
  {
   "cell_type": "markdown",
   "id": "16531e35",
   "metadata": {},
   "source": [
    "## File format\n",
    "**All numbers in hex, two numbers makes a byte**<br>\n",
    "42 (magic starting number)<br>\n",
    "... <br>\n",
    "(repeat those for all codes)<br>\n",
    "XX (length of code one byte)<br>\n",
    "AB CD (two bytes for code)<br>\n",
    "EF (one byte for letter)<br>\n",
    "...<br>\n",
    "00 00 (mark that we ended giving codes)<br>\n",
    "YYYY... (text encoded in binary)<br>\n"
   ]
  },
  {
   "cell_type": "markdown",
   "id": "9c813bea",
   "metadata": {},
   "source": [
    "## Tests"
   ]
  },
  {
   "cell_type": "code",
   "execution_count": 3,
   "id": "010451ce",
   "metadata": {},
   "outputs": [],
   "source": [
    "# encode and decode functions\n",
    "\n",
    "def huffman_encode(text: str, encoding: Dict[str, str], filename: str):\n",
    "    bin_string = ''\n",
    "    for letter in text:\n",
    "        bin_string += encoding[letter]\n",
    "\n",
    "    with open(filename, 'wb') as file:\n",
    "        file.write(b'\\x42')\n",
    "        for k, v in encoding.items():\n",
    "\n",
    "            file.write((len(v)).to_bytes(1, byteorder='big'))\n",
    "            file.write(int(v, 2).to_bytes(2, byteorder='big'))\n",
    "            file.write(ord(k).to_bytes(1, byteorder='big'))\n",
    "        \n",
    "        file.write(b'\\x00')\n",
    "        file.write((len(bin_string) % 8 + 8).to_bytes(1, byteorder='big'))\n",
    "        ## add some ones so we get number of bits that s multiply of 8\n",
    "        bin_string = '1' * (len(bin_string) % 8 + 8) + bin_string\n",
    "                            \n",
    "        int_data = int(bin_string, 2)\n",
    "        bin_data = int_data.to_bytes((int_data.bit_length() + 7) // 8, byteorder='big')\n",
    "        file.write(bin_data) \n",
    "    \n",
    "\n",
    "def huffman_decode(filename: str) -> str:\n",
    "    bin_string: str\n",
    "    reversed_encoding: Dict[str, str] = {}\n",
    "    \n",
    "    with open(filename, 'rb') as file:\n",
    "        file_magic_number = file.read(1)\n",
    "        if file_magic_number == b'\\x42':\n",
    "            len_of_code = int.from_bytes(file.read(1), \"big\")\n",
    "            while len_of_code > 0:\n",
    "                \n",
    "                code = bin(int.from_bytes(file.read(2), \"big\"))[2:]\n",
    "                letter = chr(int.from_bytes(file.read(1), \"big\"))\n",
    "                \n",
    "                while len(code) < len_of_code:\n",
    "                    code = '0' + code\n",
    "\n",
    "                reversed_encoding[code] = letter\n",
    "\n",
    "                # this one will be used for next code\n",
    "                len_of_code = int.from_bytes(file.read(1), \"big\")\n",
    "                            \n",
    "            additional_ones = int.from_bytes(file.read(1), \"big\")\n",
    "            bin_string = bin(int.from_bytes(file.read(), \"big\"))[2:]\n",
    "\n",
    "            bin_string = bin_string[additional_ones:]\n",
    "\n",
    "        else:\n",
    "            raise Exception('Wrong file format!')\n",
    "    \n",
    "    \n",
    "    text: str = ''\n",
    "    \n",
    "    prefix: str = ''\n",
    "    for bit in bin_string:\n",
    "        prefix += bit\n",
    "        \n",
    "        if prefix in reversed_encoding:\n",
    "            text += reversed_encoding[prefix]\n",
    "            prefix = ''\n",
    "    \n",
    "    return text"
   ]
  },
  {
   "cell_type": "code",
   "execution_count": 4,
   "id": "d7905325",
   "metadata": {},
   "outputs": [],
   "source": [
    "# generate text files\n",
    "set_of_chars = string.ascii_letters + ' '\n",
    "\n",
    "datasets: List[Tuple[str, int, int]] = [('test_1kB', 32, 32), \n",
    "                                         ('test_10kB', 160, 64), \n",
    "                                         ('test_100kbB', 160, 640), \n",
    "                                         ('test_1MB', 1600, 640)]\n",
    "for ds in datasets:\n",
    "    with open(ds[0], \"w\") as f:\n",
    "        result  = \"\"\n",
    "        lines = ds[1]\n",
    "        chars = ds[2]\n",
    "\n",
    "        for i in range(lines):\n",
    "            for j in range(chars):\n",
    "\n",
    "                if j == 0:\n",
    "                    result += 'X'\n",
    "                else:\n",
    "                    result += random.choice(set_of_chars)\n",
    "            result += \"\\n\"\n",
    "        f.write(result)\n"
   ]
  },
  {
   "cell_type": "markdown",
   "id": "298b8dd3",
   "metadata": {},
   "source": [
    "### Static huffman test"
   ]
  },
  {
   "cell_type": "code",
   "execution_count": 5,
   "id": "dd89e3fc",
   "metadata": {},
   "outputs": [],
   "source": [
    "static_compress_times = []\n",
    "static_decompress_times = []\n",
    "static_compression_rate = []\n",
    "for ds in datasets:\n",
    "    text = \"\"\n",
    "    with open(ds[0], \"r\") as f:\n",
    "        text = f.read()\n",
    "    \n",
    "    start = time.time()\n",
    "    \n",
    "    root = create_static_huffman_tree(text)\n",
    "    encoding = get_huffman_coding(root)\n",
    "    huffman_encode(text, encoding, ds[0] + '.huff')\n",
    "    \n",
    "    static_compress_times.append(time.time() - start)\n",
    "    \n",
    "    start = time.time()\n",
    "    \n",
    "    decoded_text = huffman_decode(ds[0] + '.huff')\n",
    "    assert text == decoded_text\n",
    "    \n",
    "    static_decompress_times.append(time.time() - start)\n",
    "    \n",
    "    static_compression_rate.append((1 - os.path.getsize(ds[0] + '.huff') / os.path.getsize(ds[0])))\n",
    "    "
   ]
  },
  {
   "cell_type": "code",
   "execution_count": 6,
   "id": "4199fdb5",
   "metadata": {},
   "outputs": [
    {
     "data": {
      "text/plain": [
       "Text(0.5, 1.0, 'Compression time')"
      ]
     },
     "execution_count": 6,
     "metadata": {},
     "output_type": "execute_result"
    },
    {
     "data": {
      "image/png": "[encoded data removed]",
      "text/plain": [
       "<Figure size 432x288 with 1 Axes>"
      ]
     },
     "metadata": {
      "needs_background": "light"
     },
     "output_type": "display_data"
    }
   ],
   "source": [
    "ds_names = [ds[0] for ds in datasets]\n",
    "plt.bar(ds_names, static_compress_times)\n",
    "plt.title(\"Compression time\")"
   ]
  },
  {
   "cell_type": "code",
   "execution_count": 7,
   "id": "16284e6c",
   "metadata": {},
   "outputs": [
    {
     "data": {
      "text/plain": [
       "Text(0.5, 1.0, 'Decompresion time')"
      ]
     },
     "execution_count": 7,
     "metadata": {},
     "output_type": "execute_result"
    },
    {
     "data": {
      "image/png": "[encoded data removed]",
      "text/plain": [
       "<Figure size 432x288 with 1 Axes>"
      ]
     },
     "metadata": {
      "needs_background": "light"
     },
     "output_type": "display_data"
    }
   ],
   "source": [
    "ds_names = [ds[0] for ds in datasets]\n",
    "plt.bar(ds_names, static_decompress_times)\n",
    "plt.title(\"Decompresion time\")"
   ]
  },
  {
   "cell_type": "code",
   "execution_count": 8,
   "id": "861aed3d",
   "metadata": {},
   "outputs": [
    {
     "data": {
      "text/plain": [
       "Text(0.5, 1.0, 'Compression rate')"
      ]
     },
     "execution_count": 8,
     "metadata": {},
     "output_type": "execute_result"
    },
    {
     "data": {
      "image/png": "[encoded data removed]",
      "text/plain": [
       "<Figure size 432x288 with 1 Axes>"
      ]
     },
     "metadata": {
      "needs_background": "light"
     },
     "output_type": "display_data"
    }
   ],
   "source": [
    "ds_names = [ds[0] for ds in datasets]\n",
    "plt.bar(ds_names, static_compression_rate)\n",
    "plt.title(\"Compression rate\")"
   ]
  }
 ],
 "metadata": {
  "kernelspec": {
   "display_name": "Python 3.8.10 64-bit",
   "language": "python",
   "name": "python3810jvsc74a57bd0916dbcbb3f70747c44a77c7bcd40155683ae19c65e1c03b4aa3499c5328201f1"
  },
  "language_info": {
   "codemirror_mode": {
    "name": "ipython",
    "version": 3
   },
   "file_extension": ".py",
   "mimetype": "text/x-python",
   "name": "python",
   "nbconvert_exporter": "python",
   "pygments_lexer": "ipython3",
   "version": "3.8.10"
  }
 },
 "nbformat": 4,
 "nbformat_minor": 5
}
