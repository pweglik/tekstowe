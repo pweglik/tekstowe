{
 "cells": [
  {
   "cell_type": "code",
   "execution_count": 1,
   "id": "558db8fa",
   "metadata": {
    "ExecuteTime": {
     "end_time": "2022-03-22T10:16:44.353319Z",
     "start_time": "2022-03-22T10:16:44.331343Z"
    }
   },
   "outputs": [],
   "source": [
    "import tempfile\n",
    "import subprocess\n",
    "from IPython.display import Image, display\n",
    "\n",
    "def view_pydot(pdot):\n",
    "    plt = Image(pdot.create_png())\n",
    "    display(plt)\n",
    "\n",
    "def show_pydot(description):\n",
    "    with tempfile.NamedTemporaryFile(mode=\"w\") as tmp1:\n",
    "        tmp1.write(description)\n",
    "        tmp1.flush()\n",
    "        bashCommand = f\"dot -Tpng {tmp1.name}\"\n",
    "        process = subprocess.Popen(bashCommand.split(), stdout=subprocess.PIPE)\n",
    "        output, error = process.communicate()\n",
    "        display(Image(output))"
   ]
  },
  {
   "cell_type": "code",
   "execution_count": 4,
   "id": "b8b9c5b0",
   "metadata": {
    "ExecuteTime": {
     "end_time": "2022-03-22T10:18:25.582344Z",
     "start_time": "2022-03-22T10:18:25.564616Z"
    }
   },
   "outputs": [],
   "source": [
    "class Node:\n",
    "    counter = 1\n",
    "    \n",
    "    def __init__(self, label, depth):\n",
    "        self.children = {}\n",
    "        self.label = label\n",
    "        self.link = None\n",
    "        self.id = Node.counter\n",
    "        self.depth = depth\n",
    "        Node.counter += 1\n",
    "        \n",
    "    def dot_node(self):\n",
    "        return f'{self.id} [label=\"\", shape=\"point\"];'\n",
    "        \n",
    "    def dot_edges(self, links=True):\n",
    "        result = []\n",
    "        for child in self.children.values():\n",
    "            result.append(f'{self.id} -> {child.id}[arrowhead=\"none\", label=\" {child.label}\"];')\n",
    "        if self.link and links:\n",
    "            result.append(f'{self.id} -> {self.link.id}[color=\"blue\"];')\n",
    "        return \"\\n\".join(result)\n",
    "    \n",
    "    def all_children(self, only_leafs=False):\n",
    "        if(not only_leafs or not self.children):\n",
    "            result = [self]\n",
    "        else:\n",
    "            result = []\n",
    "        for child in self.children.values():\n",
    "            result += child.all_children(only_leafs=only_leafs)\n",
    "        return result\n",
    "    \n",
    "    def show(self, links=True):\n",
    "        nodes = self.all_children()\n",
    "        Node.show_graph(nodes, links=links)\n",
    "    \n",
    "    @staticmethod\n",
    "    def show_graph(nodes, links=True):\n",
    "        result = \"digraph{\\n\"\n",
    "        ranks = {}\n",
    "        for node in nodes:\n",
    "            result += node.dot_node() + \"\\n\"\n",
    "            result += node.dot_edges(links) + \"\\n\"\n",
    "            if(node.depth not in ranks):\n",
    "                ranks[node.depth] = []\n",
    "            ranks[node.depth].append(node.id)\n",
    "        for key, values in ranks.items():\n",
    "            values = \" \".join([f\"{v};\" for v in values])\n",
    "            result += \" { rank=same; \" + values + \"}\\n\"\n",
    "        result += \"\\n}\"\n",
    "        show_pydot(result)"
   ]
  },
  {
   "cell_type": "code",
   "execution_count": 5,
   "id": "8f0bab73",
   "metadata": {
    "ExecuteTime": {
     "end_time": "2022-03-22T10:18:26.708652Z",
     "start_time": "2022-03-22T10:18:26.611414Z"
    }
   },
   "outputs": [
    {
     "data": {
      "image/png": "[encoded data removed]",
      "text/plain": [
       "<IPython.core.display.Image object>"
      ]
     },
     "metadata": {},
     "output_type": "display_data"
    }
   ],
   "source": [
    "root = Node(\"\",0)\n",
    "a = Node(\"a\", 1)\n",
    "b = Node(\"b\", 1)\n",
    "root.children[\"a\"] = a\n",
    "root.children[\"b\"] = b\n",
    "a.link = b\n",
    "\n",
    "root.show()"
   ]
  },
  {
   "cell_type": "code",
   "execution_count": null,
   "id": "dca35c93",
   "metadata": {},
   "outputs": [],
   "source": []
  }
 ],
 "metadata": {
  "kernelspec": {
   "display_name": "Python 3 (ipykernel)",
   "language": "python",
   "name": "python3"
  },
  "language_info": {
   "codemirror_mode": {
    "name": "ipython",
    "version": 3
   },
   "file_extension": ".py",
   "mimetype": "text/x-python",
   "name": "python",
   "nbconvert_exporter": "python",
   "pygments_lexer": "ipython3",
   "version": "3.8.10"
  },
  "toc": {
   "base_numbering": 1,
   "nav_menu": {},
   "number_sections": false,
   "sideBar": false,
   "skip_h1_title": false,
   "title_cell": "Table of Contents",
   "title_sidebar": "Contents",
   "toc_cell": false,
   "toc_position": {},
   "toc_section_display": true,
   "toc_window_display": true
  }
 },
 "nbformat": 4,
 "nbformat_minor": 5
}
