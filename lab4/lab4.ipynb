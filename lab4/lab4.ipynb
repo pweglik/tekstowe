{
 "cells": [
  {
   "cell_type": "markdown",
   "id": "e9b66613",
   "metadata": {},
   "source": [
    "# Levenshtein distance"
   ]
  },
  {
   "cell_type": "code",
   "execution_count": 1,
   "id": "875f7cae",
   "metadata": {},
   "outputs": [],
   "source": [
    "import numpy as np"
   ]
  },
  {
   "cell_type": "code",
   "execution_count": 2,
   "id": "d1c16561",
   "metadata": {},
   "outputs": [],
   "source": [
    "def delta(a: str, b: str):\n",
    "    if a == b:\n",
    "        return 0\n",
    "    else:\n",
    "        return 1\n",
    "\n",
    "def edit_distance(x: str, y: str, delta):\n",
    "    # create matrix\n",
    "    edit_table = np.empty((len(x) + 1, len(y) + 1))\n",
    "    string_table = np.empty((len(x) + 1, len(y) + 1))\n",
    "    # fill first row and column\n",
    "    edit_table[:, 0] = np.arange(len(x) + 1)\n",
    "    edit_table[0, :] = np.arange(len(y) + 1)\n",
    "        \n",
    "    for i in range(len(x)):\n",
    "        k = i + 1\n",
    "        for j in range(len(y)):\n",
    "            l = j + 1\n",
    "            edit_table[k,l] = min(edit_table[k - 1, l] + 1, \n",
    "                                  edit_table[k, l - 1] + 1, \n",
    "                                  edit_table[k - 1 , l - 1] + delta(x[i], y[j]))\n",
    "            \n",
    "    return edit_table[len(x), len(y)], edit_table"
   ]
  },
  {
   "cell_type": "code",
   "execution_count": 3,
   "id": "ad8a4492",
   "metadata": {},
   "outputs": [],
   "source": [
    "def get_edits(x, y, edit_table):\n",
    "    k = len(x)\n",
    "    l = len(y)\n",
    "    edits = []\n",
    "    \n",
    "    while k > 0 or l > 0:\n",
    "        min_el = edit_table[k, l] + 1 # make sure it will always be bigger than surrundings\n",
    "        if k >= 1 and l >= 1:\n",
    "            min_el = min(min_el, edit_table[k - 1, l - 1])\n",
    "        \n",
    "        if l >= 1:\n",
    "            min_el = min(min_el, edit_table[k, l - 1])\n",
    "            \n",
    "        if k >= 1:\n",
    "            min_el = min(min_el, edit_table[k - 1, l])\n",
    "        \n",
    "        \n",
    "        \n",
    "        \n",
    "        if edit_table[k - 1, l - 1] == min_el:\n",
    "            k -= 1\n",
    "            l -= 1\n",
    "            if edit_table[k, l] + 1 == edit_table[k + 1, l + 1]:\n",
    "                edits.append(f'{y[:l]}*{y[l]}*{x[k + 1:]} - substitute {x[k]} -> {y[l]}')\n",
    "                \n",
    "            \n",
    "        elif edit_table[k, l - 1] == min_el:\n",
    "            l -= 1\n",
    "            edits.append(f'{y[:l]}*{y[l]}*{x[k:]} - insert {y[l]}')\n",
    "            \n",
    "        elif edit_table[k - 1, l] == min_el:\n",
    "            k -= 1\n",
    "            edits.append(f'{y[:l]}**{x[k + 1:]} - delete {x[k]}')\n",
    "    \n",
    "    return list(reversed(edits))"
   ]
  },
  {
   "cell_type": "code",
   "execution_count": 4,
   "id": "c06e1919",
   "metadata": {},
   "outputs": [
    {
     "name": "stdout",
     "output_type": "stream",
     "text": [
      "Distance: 2.0\n",
      "*k*los - insert k\n",
      "klo*c* - substitute s -> c\n"
     ]
    }
   ],
   "source": [
    "a = \"los\"\n",
    "b = \"kloc\"\n",
    "res, edit_table = edit_distance(a, b, delta)\n",
    "res_edits = get_edits(a, b, edit_table)\n",
    "\n",
    "print(f'Distance: {res}')\n",
    "for edit in res_edits:\n",
    "    print(edit)"
   ]
  },
  {
   "cell_type": "code",
   "execution_count": 5,
   "id": "3f148477",
   "metadata": {},
   "outputs": [
    {
     "name": "stdout",
     "output_type": "stream",
     "text": [
      "Distance: 3.0\n",
      "*L*ódź - substitute Ł -> L\n",
      "L*o*dź - substitute ó -> o\n",
      "Lod*z* - substitute ź -> z\n"
     ]
    }
   ],
   "source": [
    "a = \"Łódź\"\n",
    "b = \"Lodz\"\n",
    "res, edit_table = edit_distance(a, b, delta)\n",
    "res_edits = get_edits(a, b, edit_table)\n",
    "\n",
    "print(f'Distance: {res}')\n",
    "for edit in res_edits:\n",
    "    print(edit)"
   ]
  },
  {
   "cell_type": "code",
   "execution_count": 6,
   "id": "8f99d82f",
   "metadata": {},
   "outputs": [
    {
     "name": "stdout",
     "output_type": "stream",
     "text": [
      "Distance: 5.0\n",
      "*q*wintesencja - substitute k -> q\n",
      "q*u*intesencja - substitute w -> u\n",
      "quintes*s*encja - insert s\n",
      "quintessenc**a - delete j\n",
      "quintessenc*e* - substitute a -> e\n"
     ]
    }
   ],
   "source": [
    "a = \"kwintesencja\"\n",
    "b = \"quintessence\"\n",
    "res, edit_table = edit_distance(a, b, delta)\n",
    "res_edits = get_edits(a, b, edit_table)\n",
    "\n",
    "print(f'Distance: {res}')\n",
    "for edit in res_edits:\n",
    "    print(edit)"
   ]
  },
  {
   "cell_type": "code",
   "execution_count": 7,
   "id": "1e2854d6",
   "metadata": {},
   "outputs": [
    {
     "name": "stdout",
     "output_type": "stream",
     "text": [
      "Distance: 7.0\n",
      "ATGA*G*TCTTACCGCCTCG - substitute A -> G\n",
      "ATGAG*G*CTTACCGCCTCG - substitute T -> G\n",
      "ATGAGGCT*C*TACCGCCTCG - insert C\n",
      "ATGAGGCTCT*G*CCGCCTCG - substitute A -> G\n",
      "ATGAGGCTCTG*G*CGCCTCG - substitute C -> G\n",
      "ATGAGGCTCTGGC*C*CCTCG - substitute G -> C\n",
      "ATGAGGCTCTGGCCCCT**G - delete C\n"
     ]
    }
   ],
   "source": [
    "a = \"ATGAATCTTACCGCCTCG\"\n",
    "b = \"ATGAGGCTCTGGCCCCTG\"\n",
    "res, edit_table = edit_distance(a, b, delta)\n",
    "res_edits = get_edits(a, b, edit_table)\n",
    "\n",
    "print(f'Distance: {res}')\n",
    "for edit in res_edits:\n",
    "    print(edit)"
   ]
  },
  {
   "cell_type": "markdown",
   "id": "5d46fa65",
   "metadata": {},
   "source": [
    "# Longest common subsequence"
   ]
  },
  {
   "cell_type": "code",
   "execution_count": 8,
   "id": "113b04ba",
   "metadata": {},
   "outputs": [],
   "source": [
    "def lcs(x, y, edit_table, return_as_list = False):\n",
    "    k = len(x)\n",
    "    l = len(y)\n",
    "    common_subsequence_len = 0\n",
    "    lcs_len = 0\n",
    "    lcs_k = -1 \n",
    "    lcs_l = -1\n",
    "    \n",
    "    while k > 0 or l > 0:\n",
    "        min_el = edit_table[k, l] + 1 # make sure it will always be bigger than surrundings\n",
    "        if k >= 1 and l >= 1:\n",
    "            min_el = min(min_el, edit_table[k - 1, l - 1])\n",
    "        \n",
    "        if l >= 1:\n",
    "            min_el = min(min_el, edit_table[k, l - 1])\n",
    "            \n",
    "        if k >= 1:\n",
    "            min_el = min(min_el, edit_table[k - 1, l])\n",
    "        \n",
    "        \n",
    "        \n",
    "        \n",
    "        if edit_table[k - 1, l - 1] == min_el:\n",
    "            k -= 1\n",
    "            l -= 1\n",
    "            if edit_table[k, l] == edit_table[k + 1, l + 1]:\n",
    "                common_subsequence_len += 1\n",
    "                if common_subsequence_len > lcs_len:\n",
    "                    lcs_len = common_subsequence_len\n",
    "                    lcs_k = k\n",
    "                    lcs_l = l\n",
    "            else:\n",
    "                common_subsequence_len = 0\n",
    "                \n",
    "            \n",
    "        elif edit_table[k, l - 1] == min_el:\n",
    "            l -= 1\n",
    "            common_subsequence_len = 0\n",
    "            \n",
    "        elif edit_table[k - 1, l] == min_el:\n",
    "            k -= 1\n",
    "            common_subsequence_len = 0\n",
    "    \n",
    "    if return_as_list:\n",
    "        lcs = []\n",
    "        for i in range(lcs_len):\n",
    "             lcs.append(x[lcs_k + i])\n",
    "    else:\n",
    "        lcs = x[lcs_k]\n",
    "        for i in range(1, lcs_len):\n",
    "             lcs = lcs + x[lcs_k + i]\n",
    "    \n",
    "    return lcs"
   ]
  },
  {
   "cell_type": "code",
   "execution_count": 9,
   "id": "477a4baf",
   "metadata": {},
   "outputs": [
    {
     "name": "stdout",
     "output_type": "stream",
     "text": [
      "LCS: lo\n"
     ]
    }
   ],
   "source": [
    "a = \"los\"\n",
    "b = \"kloc\"\n",
    "res, edit_table = edit_distance(a, b, delta)\n",
    "lcs_res = lcs(a, b, edit_table)\n",
    "\n",
    "print(f'LCS: {lcs_res}')"
   ]
  },
  {
   "cell_type": "code",
   "execution_count": 10,
   "id": "9db0f187",
   "metadata": {},
   "outputs": [
    {
     "name": "stdout",
     "output_type": "stream",
     "text": [
      "LCS: ATGA\n"
     ]
    }
   ],
   "source": [
    "a = \"ATGAATCTTACCGCCTCG\"\n",
    "b = \"ATGAGGCTCTGGCCCCTG\"\n",
    "res, edit_table = edit_distance(a, b, delta)\n",
    "lcs_res = lcs(a, b, edit_table)\n",
    "\n",
    "print(f'LCS: {lcs_res}')"
   ]
  },
  {
   "cell_type": "code",
   "execution_count": 11,
   "id": "76340119",
   "metadata": {},
   "outputs": [
    {
     "name": "stdout",
     "output_type": "stream",
     "text": [
      "LCS: intes\n"
     ]
    }
   ],
   "source": [
    "a = \"kwintesencja\"\n",
    "b = \"quintessence\"\n",
    "res, edit_table = edit_distance(a, b, delta)\n",
    "lcs_res = lcs(a, b, edit_table)\n",
    "\n",
    "print(f'LCS: {lcs_res}')"
   ]
  },
  {
   "cell_type": "code",
   "execution_count": 12,
   "id": "31c37d39",
   "metadata": {},
   "outputs": [
    {
     "name": "stdout",
     "output_type": "stream",
     "text": [
      "LCS: ['ala', 'ma', 'kota']\n"
     ]
    }
   ],
   "source": [
    "string = \"ala ma kota i psa i jest super\"\n",
    "a = string.split()\n",
    "b = a[:3] + a[-2:]\n",
    "res, edit_table = edit_distance(a, b, delta)\n",
    "lcs_res = lcs(a, b, edit_table, return_as_list=True)\n",
    "\n",
    "print(f'LCS: {lcs_res}')"
   ]
  },
  {
   "cell_type": "markdown",
   "id": "d46af0b2",
   "metadata": {},
   "source": [
    "# Custom 'diff' tool"
   ]
  },
  {
   "cell_type": "code",
   "execution_count": 13,
   "id": "6cb919ff",
   "metadata": {},
   "outputs": [
    {
     "name": "stderr",
     "output_type": "stream",
     "text": [
      "2022-05-12 13:54:11.414319: W tensorflow/stream_executor/platform/default/dso_loader.cc:64] Could not load dynamic library 'libcudart.so.11.0'; dlerror: libcudart.so.11.0: cannot open shared object file: No such file or directory; LD_LIBRARY_PATH: /home/przemek/projects/space_systems/ws_core/devel/lib:/opt/ros/noetic/lib:/opt/ros/noetic/lib/x86_64-linux-gnu\n",
      "2022-05-12 13:54:11.414338: I tensorflow/stream_executor/cuda/cudart_stub.cc:29] Ignore above cudart dlerror if you do not have a GPU set up on your machine.\n"
     ]
    }
   ],
   "source": [
    "from spacy.tokenizer import Tokenizer\n",
    "from spacy.lang.pl import Polish\n",
    "from copy import copy\n",
    "nlp = Polish()\n",
    "# Create a blank Tokenizer with just the English vocab\n",
    "tokenizer = Tokenizer(nlp.vocab)"
   ]
  },
  {
   "cell_type": "code",
   "execution_count": 14,
   "id": "b25f65e7",
   "metadata": {},
   "outputs": [],
   "source": [
    "# split text\n",
    "with open(\"romeo-i-julia-700.txt\", \"r\") as file:\n",
    "    text = file.read()\n",
    "    text = text.replace(\"\\n\", \" \\n \")\n",
    "    tokens = text.split(' ')"
   ]
  },
  {
   "cell_type": "code",
   "execution_count": 15,
   "id": "f05c7236",
   "metadata": {},
   "outputs": [],
   "source": [
    "# remove 3% of lines\n",
    "edited_tokens = []\n",
    "\n",
    "idx_to_del = np.random.randint(0, len(tokens) - 1, len(tokens)*3//100)\n",
    "for idx, token in enumerate(tokens):\n",
    "    if idx not in idx_to_del:\n",
    "        edited_tokens.append(token)\n",
    "    elif token == \"\\n\":\n",
    "        edited_tokens.append(token)\n",
    "\n",
    "edited_text = \" \".join(edited_tokens)"
   ]
  },
  {
   "cell_type": "code",
   "execution_count": 17,
   "id": "ecbb1c43",
   "metadata": {},
   "outputs": [],
   "source": [
    "def diff(text, other_text):\n",
    "    for idx, lines in enumerate(zip(text.split('\\n'), other_text.split('\\n'))):\n",
    "        line, line_edited = lines\n",
    "\n",
    "        res, edit_table = edit_distance(line.split(' '), line_edited.split(' '), delta)\n",
    "        lcs_res = lcs(line.split(' '), line_edited.split(' '), edit_table, return_as_list=True)\n",
    "\n",
    "        difference = set([el for el in line.split(' ') if el not in lcs_res]) | set([el for el in line_edited.split(' ') if el not in lcs_res])\n",
    "        if len(difference) != 0:\n",
    "            print(f'DIFF DETECTED IN LINE {idx}:\\nline1:\\n{line}\\nline2:\\n{line_edited}\\ndiff: {difference}\\n\\n')"
   ]
  },
  {
   "cell_type": "code",
   "execution_count": null,
   "id": "eaeef46f",
   "metadata": {},
   "outputs": [],
   "source": []
  }
 ],
 "metadata": {
  "kernelspec": {
   "display_name": "Python 3 (ipykernel)",
   "language": "python",
   "name": "python3"
  },
  "language_info": {
   "codemirror_mode": {
    "name": "ipython",
    "version": 3
   },
   "file_extension": ".py",
   "mimetype": "text/x-python",
   "name": "python",
   "nbconvert_exporter": "python",
   "pygments_lexer": "ipython3",
   "version": "3.8.10"
  }
 },
 "nbformat": 4,
 "nbformat_minor": 5
}
